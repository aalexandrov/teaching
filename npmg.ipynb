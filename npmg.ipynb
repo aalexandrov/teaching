{
 "cells": [
  {
   "cell_type": "markdown",
   "metadata": {},
   "source": [
    "# Функционално моделиране: Aлгебрични Tипове Данни\n",
    "\n",
    "*Д-р Александър Александров (alexandroval@vmware.com), лекция пред ученици от НПМГ, 2020/05/11*"
   ]
  },
  {
   "cell_type": "markdown",
   "metadata": {},
   "source": [
    "Най-бързият начин за тази презентация, може да отворите нов онлайн едитор в https://scastie.scala-lang.org/."
   ]
  },
  {
   "cell_type": "markdown",
   "metadata": {},
   "source": [
    "## Характеристики на функционално програмиране "
   ]
  },
  {
   "cell_type": "markdown",
   "metadata": {},
   "source": [
    "От синтактична гледна точка, основната характеристика един функционален език за програмиране е възможността функциите да бъдат третирани като стойности, т.е. да могат да бъдат асоциирани със имволи и да бъдат използвани като аргументи и параметри на други (т.нар. higher-order) функции."
   ]
  },
  {
   "cell_type": "code",
   "execution_count": 1,
   "metadata": {},
   "outputs": [
    {
     "data": {
      "text/plain": [
       "\u001b[36mf\u001b[39m: \u001b[32mInt\u001b[39m => \u001b[32mInt\u001b[39m = ammonite.$sess.cmd0$Helper$$Lambda$2247/0x0000000800beb840@548cd963\n",
       "\u001b[36mg\u001b[39m: \u001b[32mInt\u001b[39m => \u001b[32mInt\u001b[39m => \u001b[32mInt\u001b[39m => \u001b[32mInt\u001b[39m = ammonite.$sess.cmd0$Helper$$Lambda$2248/0x0000000800bec840@23be8b2\n",
       "\u001b[36mres0_2\u001b[39m: \u001b[32mInt\u001b[39m = \u001b[32m42\u001b[39m\n",
       "\u001b[36mres0_3\u001b[39m: \u001b[32mInt\u001b[39m => \u001b[32mInt\u001b[39m = ammonite.$sess.cmd0$Helper$$Lambda$2249/0x0000000800bed040@674932c7"
      ]
     },
     "execution_count": 1,
     "metadata": {},
     "output_type": "execute_result"
    }
   ],
   "source": [
    "val f = (x: Int) => x + 42 // regular function bound to a symbol x\n",
    "val g = (h: Int => Int) => ((x: Int) => h(x) - 15) // higher-order function g with a function parameter f\n",
    "\n",
    "f(0) // evaulate f at point 0\n",
    "g(f) // evaluate g at f, the result i another function that maps integers to integers"
   ]
  },
  {
   "cell_type": "markdown",
   "metadata": {},
   "source": [
    "От семантична гледа точка, есенцията на функционалното функционалното програмирне се крие в това, че когато един символ се дефинира, стойността, която му е зададенана, не може да се променя впоследствие (т.нар. immutability)."
   ]
  },
  {
   "cell_type": "code",
   "execution_count": 2,
   "metadata": {},
   "outputs": [
    {
     "data": {
      "text/plain": [
       "\u001b[36mx\u001b[39m: \u001b[32mInt\u001b[39m = \u001b[32m5\u001b[39m"
      ]
     },
     "execution_count": 2,
     "metadata": {},
     "output_type": "execute_result"
    }
   ],
   "source": [
    "val x = 5"
   ]
  },
  {
   "cell_type": "code",
   "execution_count": 2,
   "metadata": {},
   "outputs": [
    {
     "name": "stderr",
     "output_type": "stream",
     "text": [
      "cmd2.sc:1: reassignment to val\n",
      "val res2 = x = 6 // this is going to throw an error\n",
      "             ^Compilation Failed"
     ]
    },
    {
     "ename": "",
     "evalue": "",
     "output_type": "error",
     "traceback": [
      "Compilation Failed"
     ]
    }
   ],
   "source": [
    "x = 6 // this is going to throw an error"
   ]
  },
  {
   "cell_type": "markdown",
   "metadata": {},
   "source": [
    "Най-общо казано, в резултат на това свойство можем да сме сигурни, че всеки един програмен израз обозначава конкретна стойност, и още повече, това значение зависи само от самия програмен код, а не от някакъв \"невидим\" контекст. Това свойство на функционалните програми се нарича референциална шрозрачност (referntial transparency).\n",
    "\n",
    "Напеример, въпреки че не са **идентични като код**, функциите `f` и `g` са **еквивалентни**, тъй като равенството `f(x,y) == g(x,y)` е изъплнено за всяка комбинация от числа `x` и `y`."
   ]
  },
  {
   "cell_type": "code",
   "execution_count": 3,
   "metadata": {},
   "outputs": [
    {
     "data": {
      "text/plain": [
       "\u001b[36mf\u001b[39m: (\u001b[32mInt\u001b[39m, \u001b[32mInt\u001b[39m) => \u001b[32mInt\u001b[39m = ammonite.$sess.cmd2$Helper$$Lambda$2365/0x0000000800c4d040@486f824e\n",
       "\u001b[36mg\u001b[39m: (\u001b[32mInt\u001b[39m, \u001b[32mInt\u001b[39m) => \u001b[32mInt\u001b[39m = ammonite.$sess.cmd2$Helper$$Lambda$2366/0x0000000800c4e040@5f5967cf"
      ]
     },
     "execution_count": 3,
     "metadata": {},
     "output_type": "execute_result"
    }
   ],
   "source": [
    "val f = (x: Int, y: Int) => x + y\n",
    "val g = (x: Int, y: Int) => y + x"
   ]
  },
  {
   "cell_type": "markdown",
   "metadata": {},
   "source": [
    "За да се уверим в горното твърдение не е нужно да емпирично да изпълняваме програмата `f(x,y) == g(x,y)` за всяка възможна комбинация от стойности `x: Int` и `y: Int`."
   ]
  },
  {
   "cell_type": "code",
   "execution_count": 4,
   "metadata": {},
   "outputs": [
    {
     "data": {
      "text/plain": [
       "\u001b[36mrandom\u001b[39m: \u001b[32mscala\u001b[39m.\u001b[32mutil\u001b[39m.\u001b[32mRandom\u001b[39m = scala.util.Random@2c5876d0"
      ]
     },
     "execution_count": 4,
     "metadata": {},
     "output_type": "execute_result"
    }
   ],
   "source": [
    "val random = new scala.util.Random()"
   ]
  },
  {
   "cell_type": "code",
   "execution_count": 5,
   "metadata": {},
   "outputs": [
    {
     "data": {
      "text/plain": [
       "\u001b[36mx\u001b[39m: \u001b[32mInt\u001b[39m = \u001b[32m910\u001b[39m\n",
       "\u001b[36my\u001b[39m: \u001b[32mInt\u001b[39m = \u001b[32m727\u001b[39m\n",
       "\u001b[36mres4_2\u001b[39m: \u001b[32mBoolean\u001b[39m = true"
      ]
     },
     "execution_count": 5,
     "metadata": {},
     "output_type": "execute_result"
    }
   ],
   "source": [
    "// repeat the execution of thi cell in order to get empirical data on the validity of the proposition \n",
    "// \"f(x,y) == g(x,y)\" \n",
    "val x = random.nextInt(1000)\n",
    "val y = random.nextInt(1000)\n",
    "f(x, y) == g(y, x)"
   ]
  },
  {
   "cell_type": "markdown",
   "metadata": {},
   "source": [
    "\n",
    "На база на (функционалния) код дефиниран по-горе можем да заключим горното твърдение и аналитично, вследствие на факта, че \n",
    "\n",
    "```\n",
    "f(x, y) == x + y == y + x = g(x, y)\n",
    "```\n",
    "\n",
    "тъй като събирането е комутативно."
   ]
  },
  {
   "cell_type": "markdown",
   "metadata": {},
   "source": [
    "## Алгебрични типове данни"
   ]
  },
  {
   "cell_type": "markdown",
   "metadata": {},
   "source": [
    "Алгебричните типове данни биват два вида - типове-произведения и типове-суми.\n",
    "\n",
    "Абстрактно погледнато (т.е., независимо от конкретния език за програмиране), всеки тип може да бъде описан и като сума от произведения. \n",
    "\n",
    "Следващите секции въвеждат тези понятия на базата на конкретни примери."
   ]
  },
  {
   "cell_type": "markdown",
   "metadata": {},
   "source": [
    "### Типове-Произведения (Product Types)\n",
    "\n",
    "В Scala, типовете-произведения се дефинират с помощта на ключовата дума `case class`. Например, :"
   ]
  },
  {
   "cell_type": "code",
   "execution_count": 6,
   "metadata": {},
   "outputs": [
    {
     "data": {
      "text/plain": [
       "defined \u001b[32mclass\u001b[39m \u001b[36mHighSchoolStudent\u001b[39m\n",
       "defined \u001b[32mclass\u001b[39m \u001b[36mUniversityStudent\u001b[39m"
      ]
     },
     "execution_count": 6,
     "metadata": {},
     "output_type": "execute_result"
    }
   ],
   "source": [
    "case class HighSchoolStudent(socialID: Int, name: String, surname: String)\n",
    "case class UniversityStudent(first: String, last: String, studentID: Int)"
   ]
  },
  {
   "cell_type": "markdown",
   "metadata": {},
   "source": [
    "Обърнете внимание, че и двата типа комбинират по две стойности от тип `String` с една от тип `Int`.\n",
    "Абстрактното погледнато, двата типа репрезентират конкретни произведения на типове (product type space) `T1 × ... × Tn`:\n",
    "\n",
    "- `HighSchoolStudent(socialID: Int, name: String, surname: String) ≅ Int × String × String` (в първия случай) и \n",
    "- `UniversityStudent(first: String, last: String, studentID: Int) ≅ String × String × Int` (във втория).\n",
    "\n",
    "Типовите произведения от дясната страна генерализират номиналнте дефиниции от лявата до най-чистата им структура. Образно казано, забравили сме името на самия тип (`HighSchoolStudent`/`UniversityStudent`) и на конкретните параметри (`name`/`last`, `surname`/`last` и `socialID`/`studentID` ).\n",
    "\n",
    "Тъй като тип-конструктора за умножение `·×·` е комутативен и асоциативен, типовете `UniversityStudent` и `HighSchoolStudent` са изоморфни помежду си - т.е., на всеки студент `x: UniversityStudent` съответства точно един гимназист `y: HighSchoolStudent` и обратно.\n",
    "\n",
    "```\n",
    "HighSchoolStudent(...) ≅ Int × String × String ≅ String × String × Int ≅ UniversityStudent(...)\n",
    "```\n",
    "\n",
    "Доказателство за горното твърдение е съществуването на следните две функции \n",
    "\n",
    "- `hsToUni: HighSchoolStudent => UniversityStudent` и \n",
    "- `uniToHs: UniversityStudent => HighSchoolStudent`."
   ]
  },
  {
   "cell_type": "code",
   "execution_count": 7,
   "metadata": {},
   "outputs": [
    {
     "data": {
      "text/plain": [
       "\u001b[36mhsToUni\u001b[39m: \u001b[32mHighSchoolStudent\u001b[39m => \u001b[32mUniversityStudent\u001b[39m = ammonite.$sess.cmd6$Helper$$Lambda$2592/0x0000000800cfa040@8970b7\n",
       "\u001b[36muniToHS\u001b[39m: \u001b[32mUniversityStudent\u001b[39m => \u001b[32mHighSchoolStudent\u001b[39m = ammonite.$sess.cmd6$Helper$$Lambda$2593/0x0000000800cfa840@48b9aee1"
      ]
     },
     "execution_count": 7,
     "metadata": {},
     "output_type": "execute_result"
    }
   ],
   "source": [
    "val hsToUni = (x: HighSchoolStudent) => UniversityStudent(x.name, x.surname, x.socialID)\n",
    "val uniToHS = (x: UniversityStudent) => HighSchoolStudent(x.studentID, x.first, x.last)"
   ]
  },
  {
   "cell_type": "markdown",
   "metadata": {},
   "source": [
    "Тези две функции изпълняват дефиницията на изоморфизъм - т.е. имаме следните две равенства:\n",
    "\n",
    "- `x = hsToUni(uniToHS(x))` за всяка стойност `x: UniversityStudent`, и\n",
    "- `x = uniToHS(hsToUni(x))` за всяка стойност `x: HighSchoolStudent`."
   ]
  },
  {
   "cell_type": "code",
   "execution_count": 8,
   "metadata": {},
   "outputs": [
    {
     "data": {
      "text/plain": [
       "\u001b[36malan\u001b[39m: \u001b[32mHighSchoolStudent\u001b[39m = \u001b[33mHighSchoolStudent\u001b[39m(\u001b[32m1\u001b[39m, \u001b[32m\"Alan\"\u001b[39m, \u001b[32m\"Turing\"\u001b[39m)\n",
       "\u001b[36mres7_1\u001b[39m: \u001b[32mBoolean\u001b[39m = true"
      ]
     },
     "execution_count": 8,
     "metadata": {},
     "output_type": "execute_result"
    }
   ],
   "source": [
    "val alan = HighSchoolStudent(1, \"Alan\", \"Turing\")\n",
    "uniToHS(hsToUni(alan)) == alan"
   ]
  },
  {
   "cell_type": "code",
   "execution_count": 9,
   "metadata": {},
   "outputs": [
    {
     "data": {
      "text/plain": [
       "\u001b[36malonso\u001b[39m: \u001b[32mHighSchoolStudent\u001b[39m = \u001b[33mHighSchoolStudent\u001b[39m(\u001b[32m2\u001b[39m, \u001b[32m\"Alonso\"\u001b[39m, \u001b[32m\"Church\"\u001b[39m)\n",
       "\u001b[36mres8_1\u001b[39m: \u001b[32mBoolean\u001b[39m = true"
      ]
     },
     "execution_count": 9,
     "metadata": {},
     "output_type": "execute_result"
    }
   ],
   "source": [
    "val alonso = HighSchoolStudent(2, \"Alonso\", \"Church\")\n",
    "uniToHS(hsToUni(alonso)) == alonso"
   ]
  },
  {
   "cell_type": "markdown",
   "metadata": {},
   "source": [
    "Тъй като всички типове-произведения могат да бъдат репрезентирани от константния полином `1`, всички те са изоморфни.\n",
    "\n",
    "**Задача**: дефнирайте друг изоморфизъм между `HighSchoolStudent` и `UniversityStudent`."
   ]
  },
  {
   "cell_type": "code",
   "execution_count": 10,
   "metadata": {},
   "outputs": [
    {
     "data": {
      "text/plain": [
       "\u001b[36mhsToUni2\u001b[39m: \u001b[32mHighSchoolStudent\u001b[39m => \u001b[32mUniversityStudent\u001b[39m = ammonite.$sess.cmd9$Helper$$Lambda$2629/0x0000000800d0d840@6dfc5ea0\n",
       "\u001b[36muniToHS2\u001b[39m: \u001b[32mUniversityStudent\u001b[39m => \u001b[32mHighSchoolStudent\u001b[39m = ammonite.$sess.cmd9$Helper$$Lambda$2630/0x0000000800d0e840@2acd8042"
      ]
     },
     "execution_count": 10,
     "metadata": {},
     "output_type": "execute_result"
    }
   ],
   "source": [
    "val hsToUni2: HighSchoolStudent => UniversityStudent = (x: HighSchoolStudent) => ???\n",
    "val uniToHS2: UniversityStudent => HighSchoolStudent = (x: UniversityStudent) => ???"
   ]
  },
  {
   "cell_type": "markdown",
   "metadata": {},
   "source": [
    "### Константни Типове\n",
    "\n",
    "Частен случай на типове-произведение са т.нар. константни типове. Начинът да се дефинира такъв тип в Scala е чрез ключовите думи `case object` или като празен тип-произведение `case class`."
   ]
  },
  {
   "cell_type": "code",
   "execution_count": 11,
   "metadata": {},
   "outputs": [
    {
     "data": {
      "text/plain": [
       "defined \u001b[32mobject\u001b[39m \u001b[36mAnonymous\u001b[39m\n",
       "defined \u001b[32mclass\u001b[39m \u001b[36mAnonymous\u001b[39m"
      ]
     },
     "execution_count": 11,
     "metadata": {},
     "output_type": "execute_result"
    }
   ],
   "source": [
    "case object Anonymous  // Anonymous singleton object\n",
    "case class Anonymous() // Anonymous empty case clas (this definition is active for the rest of this document)"
   ]
  },
  {
   "cell_type": "markdown",
   "metadata": {},
   "source": [
    "Константните типове описват тривиални множества с една единствена стойност."
   ]
  },
  {
   "cell_type": "code",
   "execution_count": 12,
   "metadata": {},
   "outputs": [
    {
     "data": {
      "text/plain": [
       "\u001b[36manonymous\u001b[39m: \u001b[32mAnonymous\u001b[39m = Anonymous()"
      ]
     },
     "execution_count": 12,
     "metadata": {},
     "output_type": "execute_result"
    }
   ],
   "source": [
    "val anonymous = Anonymous()"
   ]
  },
  {
   "cell_type": "markdown",
   "metadata": {},
   "source": [
    "Абстрактният тип-израз, с който се обозначава константен тип, е `1`."
   ]
  },
  {
   "cell_type": "markdown",
   "metadata": {},
   "source": [
    "Scala предлага предварително дефиниран константен тип `Unit`, чиято единствена стойност се обозначава с `()` или `Unit`."
   ]
  },
  {
   "cell_type": "code",
   "execution_count": 13,
   "metadata": {},
   "outputs": [
    {
     "data": {
      "text/plain": [
       "\u001b[36mu1\u001b[39m: \u001b[32mUnit\u001b[39m.type = object scala.Unit\n",
       "\u001b[36mres12_2\u001b[39m: \u001b[32mBoolean\u001b[39m = false"
      ]
     },
     "execution_count": 13,
     "metadata": {},
     "output_type": "execute_result"
    }
   ],
   "source": [
    "val u1 = Unit\n",
    "val u2 = ()\n",
    "\n",
    "u1 == u2"
   ]
  },
  {
   "cell_type": "markdown",
   "metadata": {},
   "source": [
    "Тъй като всички типове-произведения могат да бъдат репрезентирани от константния полином `1`, всички те са изоморфни.\n",
    "\n",
    "**Задача**: дефнирайте тривиалния изоморфизъм между `Anonymous` и `Unit`."
   ]
  },
  {
   "cell_type": "code",
   "execution_count": 14,
   "metadata": {},
   "outputs": [
    {
     "data": {
      "text/plain": [
       "\u001b[36manonymousToUnit\u001b[39m: \u001b[32mAnonymous\u001b[39m => \u001b[32mUnit\u001b[39m = ammonite.$sess.cmd13$Helper$$Lambda$2664/0x0000000800d22840@44cd6e4c\n",
       "\u001b[36munitToAnonymous\u001b[39m: \u001b[32mUnit\u001b[39m => \u001b[32mAnonymous\u001b[39m = ammonite.$sess.cmd13$Helper$$Lambda$2665/0x0000000800d23040@20d7b790"
      ]
     },
     "execution_count": 14,
     "metadata": {},
     "output_type": "execute_result"
    }
   ],
   "source": [
    "val anonymousToUnit: Anonymous => Unit = (a: Anonymous) => ???\n",
    "val unitToAnonymous: Unit => Anonymous = (u: Unit) => ???"
   ]
  },
  {
   "cell_type": "markdown",
   "metadata": {},
   "source": [
    "Изборът на нотация тук не е случаен. В унисон с правилата за умножение от първи клас, и при типовете важи равенството\n",
    "\n",
    "```\n",
    "1 × Т1 × .. × Тn ≅ Т1 × .. × Тn ≅ Т1 × .. × Тn×1\n",
    "```\n",
    "\n",
    "\n",
    "**Задача**: дефнирайте тривиалния изоморфизъм между `HighSchoolStudent` и `HighSchoolStudentExt ≅ Int × String × String × Unit`."
   ]
  },
  {
   "cell_type": "code",
   "execution_count": 15,
   "metadata": {},
   "outputs": [
    {
     "data": {
      "text/plain": [
       "defined \u001b[32mclass\u001b[39m \u001b[36mHighSchoolStudentExt\u001b[39m"
      ]
     },
     "execution_count": 15,
     "metadata": {},
     "output_type": "execute_result"
    }
   ],
   "source": [
    "case class HighSchoolStudentExt(socialID: Int, name: String, surname: String, unit: Unit)"
   ]
  },
  {
   "cell_type": "code",
   "execution_count": 16,
   "metadata": {},
   "outputs": [
    {
     "data": {
      "text/plain": [
       "\u001b[36mhsStudentToPlus\u001b[39m: \u001b[32mHighSchoolStudent\u001b[39m => \u001b[32mHighSchoolStudentExt\u001b[39m = ammonite.$sess.cmd15$Helper$$Lambda$2672/0x0000000800d27840@431c5b79\n",
       "\u001b[36mplusToHSStudent\u001b[39m: \u001b[32mHighSchoolStudentExt\u001b[39m => \u001b[32mHighSchoolStudent\u001b[39m = ammonite.$sess.cmd15$Helper$$Lambda$2673/0x0000000800d28040@c93ce83"
      ]
     },
     "execution_count": 16,
     "metadata": {},
     "output_type": "execute_result"
    }
   ],
   "source": [
    "val hsStudentToPlus: HighSchoolStudent => HighSchoolStudentExt = (a: HighSchoolStudent) => ???\n",
    "val plusToHSStudent: HighSchoolStudentExt => HighSchoolStudent = (u: HighSchoolStudentExt) => ???"
   ]
  },
  {
   "cell_type": "markdown",
   "metadata": {},
   "source": [
    "### Типове-Суми (Sum Types)"
   ]
  },
  {
   "cell_type": "markdown",
   "metadata": {},
   "source": [
    "Докато типовете-произведения ни дават възможност да моделираме цялото като съвкупност от едновременно проявяващи се признаци (т.е. студент с първо име \"Alan\", фамилия \"Turing\", студентки номер 1 и т.н.), то типовете-суми ни позволяват да моделираме цялото като съвкупност от взаимно-изключващи се алтернативи.\n",
    "\n",
    "Абстрактно погледнато, типовете-суми ни позволяват да комбинираме две или повече тип-произведения, използвайки тип-конструктора `·+·`."
   ]
  },
  {
   "cell_type": "markdown",
   "metadata": {},
   "source": [
    "Например, възможно е в света, който моделираме, учениците да трябва да събират часове и оценки по определени предмети (задължителни или свободноизбираеми) за всеки срок. Един начин да интегрираме този аспект в алгебричния модел (който за момента се състои единствено от типа `Student`) е чрез нов тип-сума `Subject` и продуктов тип `StudentGrade`."
   ]
  },
  {
   "cell_type": "code",
   "execution_count": 17,
   "metadata": {},
   "outputs": [
    {
     "data": {
      "text/plain": [
       "defined \u001b[32mtrait\u001b[39m \u001b[36mSubject\u001b[39m\n",
       "defined \u001b[32mclass\u001b[39m \u001b[36mMandatorySubject\u001b[39m\n",
       "defined \u001b[32mclass\u001b[39m \u001b[36mOptionalSubject\u001b[39m\n",
       "defined \u001b[32mclass\u001b[39m \u001b[36mSubjectGrade\u001b[39m"
      ]
     },
     "execution_count": 17,
     "metadata": {},
     "output_type": "execute_result"
    }
   ],
   "source": [
    "sealed trait Subject {}\n",
    "case class MandatorySubject(name: String, term: String, hours: Int) extends Subject\n",
    "case class OptionalSubject(name: String, term: String, hours: Int) extends Subject\n",
    "case class SubjectGrade(student: HighSchoolStudent, subject: Subject, grade: Double) {}"
   ]
  },
  {
   "cell_type": "markdown",
   "metadata": {},
   "source": [
    "Този модел ни позволява да изразим факти от типа\n",
    "\n",
    "- \"Алън Туринг слуша Алгебра 1 през пролетта на 2020 година и получи оценка (среден) 3\" и\n",
    "- \"Алън Туринг слуша гост-лекцията за функционално програмиране през пролетта на 2020 година и получи оценка 0\"\n",
    "\n",
    "като програмни тойности."
   ]
  },
  {
   "cell_type": "code",
   "execution_count": 18,
   "metadata": {},
   "outputs": [
    {
     "data": {
      "text/plain": [
       "\u001b[36malgebra\u001b[39m: \u001b[32mMandatorySubject\u001b[39m = \u001b[33mMandatorySubject\u001b[39m(\u001b[32m\"Algebra 1\"\u001b[39m, \u001b[32m\"Spring 2020\"\u001b[39m, \u001b[32m3\u001b[39m)\n",
       "\u001b[36mguestLectureFP\u001b[39m: \u001b[32mOptionalSubject\u001b[39m = \u001b[33mOptionalSubject\u001b[39m(\n",
       "  \u001b[32m\"Functional Programming (Guest Lecture)\"\u001b[39m,\n",
       "  \u001b[32m\"Spring 2020\"\u001b[39m,\n",
       "  \u001b[32m2\u001b[39m\n",
       ")\n",
       "\u001b[36msubjectGrade1\u001b[39m: \u001b[32mSubjectGrade\u001b[39m = \u001b[33mSubjectGrade\u001b[39m(\n",
       "  \u001b[33mHighSchoolStudent\u001b[39m(\u001b[32m1\u001b[39m, \u001b[32m\"Alan\"\u001b[39m, \u001b[32m\"Turing\"\u001b[39m),\n",
       "  \u001b[33mMandatorySubject\u001b[39m(\u001b[32m\"Algebra 1\"\u001b[39m, \u001b[32m\"Spring 2020\"\u001b[39m, \u001b[32m3\u001b[39m),\n",
       "  \u001b[32m5.5\u001b[39m\n",
       ")\n",
       "\u001b[36msubjectGrade2\u001b[39m: \u001b[32mSubjectGrade\u001b[39m = \u001b[33mSubjectGrade\u001b[39m(\n",
       "  \u001b[33mHighSchoolStudent\u001b[39m(\u001b[32m1\u001b[39m, \u001b[32m\"Alan\"\u001b[39m, \u001b[32m\"Turing\"\u001b[39m),\n",
       "  \u001b[33mOptionalSubject\u001b[39m(\u001b[32m\"Functional Programming (Guest Lecture)\"\u001b[39m, \u001b[32m\"Spring 2020\"\u001b[39m, \u001b[32m2\u001b[39m),\n",
       "  \u001b[32m0.0\u001b[39m\n",
       ")"
      ]
     },
     "execution_count": 18,
     "metadata": {},
     "output_type": "execute_result"
    }
   ],
   "source": [
    "val algebra = MandatorySubject(\"Algebra 1\", \"Spring 2020\", 3)\n",
    "val guestLectureFP = OptionalSubject(\"Functional Programming (Guest Lecture)\", \"Spring 2020\", 2)\n",
    "val subjectGrade1 = SubjectGrade(alan, algebra, 5.5)\n",
    "val subjectGrade2 = SubjectGrade(alan, guestLectureFP, 0.0)"
   ]
  },
  {
   "cell_type": "markdown",
   "metadata": {},
   "source": [
    "По подобен начин можем да разширим модела на студентите със свободно-избираеми и задължителни предмети."
   ]
  },
  {
   "cell_type": "code",
   "execution_count": 19,
   "metadata": {},
   "outputs": [
    {
     "data": {
      "text/plain": [
       "defined \u001b[32mtrait\u001b[39m \u001b[36mUniversityCourse\u001b[39m\n",
       "defined \u001b[32mclass\u001b[39m \u001b[36mMandatoryCourse\u001b[39m\n",
       "defined \u001b[32mclass\u001b[39m \u001b[36mOptionalCourse\u001b[39m\n",
       "defined \u001b[32mclass\u001b[39m \u001b[36mCourseGrade\u001b[39m"
      ]
     },
     "execution_count": 19,
     "metadata": {},
     "output_type": "execute_result"
    }
   ],
   "source": [
    "sealed trait UniversityCourse {}\n",
    "case class MandatoryCourse(name: String, term: String, credits: Int) extends UniversityCourse\n",
    "case class OptionalCourse(name: String, term: String, credits: Int) extends UniversityCourse\n",
    "case class CourseGrade(student: HighSchoolStudent, course: UniversityCourse, grade: Double) {}"
   ]
  },
  {
   "cell_type": "code",
   "execution_count": 20,
   "metadata": {},
   "outputs": [
    {
     "data": {
      "text/plain": [
       "\u001b[36mprogLang\u001b[39m: \u001b[32mMandatoryCourse\u001b[39m = \u001b[33mMandatoryCourse\u001b[39m(\n",
       "  \u001b[32m\"Programming Language Semantics\"\u001b[39m,\n",
       "  \u001b[32m\"Spring 2020\"\u001b[39m,\n",
       "  \u001b[32m3\u001b[39m\n",
       ")\n",
       "\u001b[36mcatTheo\u001b[39m: \u001b[32mOptionalCourse\u001b[39m = \u001b[33mOptionalCourse\u001b[39m(\u001b[32m\"Category Theory\"\u001b[39m, \u001b[32m\"Spring 2020\"\u001b[39m, \u001b[32m2\u001b[39m)\n",
       "\u001b[36mgrade1\u001b[39m: \u001b[32mCourseGrade\u001b[39m = \u001b[33mCourseGrade\u001b[39m(\n",
       "  \u001b[33mHighSchoolStudent\u001b[39m(\u001b[32m2\u001b[39m, \u001b[32m\"Alonso\"\u001b[39m, \u001b[32m\"Church\"\u001b[39m),\n",
       "  \u001b[33mMandatoryCourse\u001b[39m(\u001b[32m\"Programming Language Semantics\"\u001b[39m, \u001b[32m\"Spring 2020\"\u001b[39m, \u001b[32m3\u001b[39m),\n",
       "  \u001b[32m6.0\u001b[39m\n",
       ")\n",
       "\u001b[36mgrade2\u001b[39m: \u001b[32mCourseGrade\u001b[39m = \u001b[33mCourseGrade\u001b[39m(\n",
       "  \u001b[33mHighSchoolStudent\u001b[39m(\u001b[32m2\u001b[39m, \u001b[32m\"Alonso\"\u001b[39m, \u001b[32m\"Church\"\u001b[39m),\n",
       "  \u001b[33mOptionalCourse\u001b[39m(\u001b[32m\"Category Theory\"\u001b[39m, \u001b[32m\"Spring 2020\"\u001b[39m, \u001b[32m2\u001b[39m),\n",
       "  \u001b[32m6.0\u001b[39m\n",
       ")"
      ]
     },
     "execution_count": 20,
     "metadata": {},
     "output_type": "execute_result"
    }
   ],
   "source": [
    "val progLang = MandatoryCourse(\"Programming Language Semantics\", \"Spring 2020\", 3)\n",
    "val catTheo = OptionalCourse(\"Category Theory\", \"Spring 2020\", 2)\n",
    "val grade1 = CourseGrade(alonso, progLang, 6.0)\n",
    "val grade2 = CourseGrade(alonso, catTheo, 6.0)"
   ]
  },
  {
   "cell_type": "markdown",
   "metadata": {},
   "source": [
    "Тип-изразите на двата модела съответстват.\n",
    "\n",
    "```\n",
    "UniversityCourse(...) ≅ MandatoryCourse + OptionalCourse \n",
    "                      ≅ String × String × Double + String × String × Double\n",
    "                      ≅ MandatorySubject + OptionalSubject \n",
    "                      ≅ Subject(...)\n",
    "     \n",
    "CourseGrade(...) ≅ SubjectGrade(...)\n",
    "```"
   ]
  },
  {
   "cell_type": "markdown",
   "metadata": {},
   "source": [
    "Scala ни предоставя възможността да използваме деструктивни шаблони (pattern matching), за да дефинираме функции, които оперират върху тип-сума като съвкупност от случаи - по един за вяко събираемо.\n",
    "\n",
    "Например, за да извлечем броя задължителни часове, които един предмет допринася към общия брой часове в гимназиалната диплома, можем да използваме следната функция:"
   ]
  },
  {
   "cell_type": "code",
   "execution_count": null,
   "metadata": {},
   "outputs": [],
   "source": [
    "val diplomCredits: Subject => Int = subject => subject match {\n",
    "    case MandatorySubject(name, term, hours) => hours\n",
    "    case OptionalSubject(name, term, hours) => 0\n",
    "}"
   ]
  },
  {
   "cell_type": "code",
   "execution_count": null,
   "metadata": {},
   "outputs": [],
   "source": [
    "diplomCredits(algebra)\n",
    "diplomCredits(guestLectureFP)"
   ]
  },
  {
   "cell_type": "markdown",
   "metadata": {},
   "source": [
    "**Задача**: дефинирайте двойка функции, съставляващи изоморфизъм между `Subject` и `UniversityCourse` исползвайки деструктивни шаблони."
   ]
  },
  {
   "cell_type": "markdown",
   "metadata": {},
   "source": [
    "## Рекурсивни Типове Данни"
   ]
  },
  {
   "cell_type": "markdown",
   "metadata": {},
   "source": [
    "Рекурсивните алгебрични типове представляват дефниции, при които името на типа изписан от лявата страна също така фигурира в тип-полинома от дясната. С други думи, поне един от конструкторите на типа референцира себе си в един или повече параметри.\n",
    "\n",
    "Може би най-простият и интуитивен пример е дефиницията на естествените числа в т.нар единичен код. Неформално, естествените числа могат да бъдат дефинирани по индуктивен начин както следва:\n",
    "\n",
    "- числото *1* е естествено число,\n",
    "- ако *x* е естествено число, то и *x + 1*  е естествено число.\n",
    "\n",
    "Ако изразим горната дефиниция в езика на типовите полиноми, ще получим следното рекурсивно уравнение.\n",
    "\n",
    "```\n",
    "Nat ≅ 1 + Nat \n",
    "```\n",
    "\n",
    "Първото събираемо от дясната страна на уравнението кодира константният конструктор *1*, докато второто кодира конструкторът *x + 1*.\n",
    "\n",
    "Дефиницията може да бъде кодирана в Scala чрез базов тип-сума `Nat` с два варианта `One` (репрезентиращ *1*) и `Succ(x: Nat)` (репрезентиращ *x + 1*). "
   ]
  },
  {
   "cell_type": "code",
   "execution_count": 22,
   "metadata": {},
   "outputs": [
    {
     "data": {
      "text/plain": [
       "defined \u001b[32mtrait\u001b[39m \u001b[36mNat\u001b[39m\n",
       "defined \u001b[32mclass\u001b[39m \u001b[36mOne\u001b[39m\n",
       "defined \u001b[32mclass\u001b[39m \u001b[36mSucc\u001b[39m"
      ]
     },
     "execution_count": 22,
     "metadata": {},
     "output_type": "execute_result"
    }
   ],
   "source": [
    "sealed trait Nat {}\n",
    "case class One() extends Nat\n",
    "case class Succ(x: Nat) extends Nat"
   ]
  },
  {
   "cell_type": "markdown",
   "metadata": {},
   "source": [
    "Ето и първите няколко естествени числа, изразени в единичен код като стойности от тип `Nat`."
   ]
  },
  {
   "cell_type": "code",
   "execution_count": 23,
   "metadata": {},
   "outputs": [
    {
     "data": {
      "text/plain": [
       "\u001b[36mn1\u001b[39m: \u001b[32mOne\u001b[39m = One()\n",
       "\u001b[36mn2\u001b[39m: \u001b[32mSucc\u001b[39m = \u001b[33mSucc\u001b[39m(One())\n",
       "\u001b[36mn3\u001b[39m: \u001b[32mSucc\u001b[39m = \u001b[33mSucc\u001b[39m(\u001b[33mSucc\u001b[39m(One()))\n",
       "\u001b[36mn4\u001b[39m: \u001b[32mSucc\u001b[39m = \u001b[33mSucc\u001b[39m(\u001b[33mSucc\u001b[39m(\u001b[33mSucc\u001b[39m(One())))\n",
       "\u001b[36mn5\u001b[39m: \u001b[32mSucc\u001b[39m = \u001b[33mSucc\u001b[39m(\u001b[33mSucc\u001b[39m(\u001b[33mSucc\u001b[39m(\u001b[33mSucc\u001b[39m(One()))))"
      ]
     },
     "execution_count": 23,
     "metadata": {},
     "output_type": "execute_result"
    }
   ],
   "source": [
    "val n1 = One()\n",
    "val n2 = Succ(n1)\n",
    "val n3 = Succ(n2)\n",
    "val n4 = Succ(n3)\n",
    "val n5 = Succ(n4)"
   ]
  },
  {
   "cell_type": "markdown",
   "metadata": {},
   "source": [
    "За да конвертираме от единичен код (`Nat`) в двуичен код `Int`, използваме функция която имплементира т.нар. **структурна рекурсия** върху рекурсивния тип `Nat`. "
   ]
  },
  {
   "cell_type": "code",
   "execution_count": 28,
   "metadata": {},
   "outputs": [
    {
     "data": {
      "text/plain": [
       "\u001b[36mnatToInt\u001b[39m: \u001b[32mNat\u001b[39m => \u001b[32mInt\u001b[39m = ammonite.$sess.cmd27$Helper$$Lambda$2870/0x0000000800db5840@70c1e8d0"
      ]
     },
     "execution_count": 28,
     "metadata": {},
     "output_type": "execute_result"
    }
   ],
   "source": [
    "val natToInt: Nat => Int = n => n match {\n",
    "    case One() => 1\n",
    "    case Succ(x) => natToInt(x) + 1\n",
    "}"
   ]
  },
  {
   "cell_type": "markdown",
   "metadata": {},
   "source": [
    "Функцията оперира върху параметър `n` от тип `Nat`, дефинирайки отделен случай за всеки възможен начин, по който `n` би могъл да бъде конструиран.\n",
    "\n",
    "- Ако `n = One()`, то `natToInt(n) = One()`.\n",
    "- Ако `n = Succ(x)`, то `natToInt(n) = natToInt(x) + 1`."
   ]
  },
  {
   "cell_type": "markdown",
   "metadata": {},
   "source": [
    "**Задача**: имплементирайте функцията `intToNat: Int => Nat` която конвертира двуични `Int` стойности в единичен код.\n",
    "\n",
    "**Задача**: Разширете модела за студентски лекции така, че курсовете да могат да бъдат организирани в модули. Един модул се състои от един или повече курса или от един или повече под-модули. Използвайки принципа на структурната рекурсия, напишете функции които изчисляват тоталния брой точки (`credits`) в конкретен модул.  "
   ]
  }
 ],
 "metadata": {
  "kernelspec": {
   "display_name": "Scala",
   "language": "scala",
   "name": "scala"
  },
  "language_info": {
   "codemirror_mode": "text/x-scala",
   "file_extension": ".scala",
   "mimetype": "text/x-scala",
   "name": "scala",
   "nbconvert_exporter": "script",
   "version": "2.12.8"
  }
 },
 "nbformat": 4,
 "nbformat_minor": 4
}
